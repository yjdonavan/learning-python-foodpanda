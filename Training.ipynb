{
 "cells": [
  {
   "cell_type": "code",
   "execution_count": 5,
   "id": "10c087c2",
   "metadata": {},
   "outputs": [
    {
     "name": "stdout",
     "output_type": "stream",
     "text": [
      "Please enter your weight in kg =63\n",
      "Please enter your height in m =1.68\n",
      "Your weight is 63.0kg\n",
      "Your height is 1.68m\n",
      "Your BMI is 22.321428571428577\n"
     ]
    }
   ],
   "source": [
    "#this program is to calculate BMI of user\n",
    "\n",
    "#user input weight\n",
    "#store weight (float/integer)\n",
    "#user input height\n",
    "#store height (float/integer)\n",
    "#calculate BMI = weight / (height * height)\n",
    "#display BMI on screen\n",
    "\n",
    "weight=float(input('Please enter your weight in kg ='))\n",
    "height=float(input('Please enter your height in m ='))\n",
    "\n",
    "BMI = weight / (height*height)\n",
    "\n",
    "print('Your weight is ' + str(weight) + 'kg')\n",
    "print('Your height is ' + str(height) + 'm')\n",
    "print('Your BMI is ' + str(BMI) )\n"
   ]
  },
  {
   "cell_type": "code",
   "execution_count": 7,
   "id": "9e371d92",
   "metadata": {},
   "outputs": [
    {
     "name": "stdout",
     "output_type": "stream",
     "text": [
      "Answer of 15 x 15 = 225\n"
     ]
    }
   ],
   "source": [
    "#Write a program to compute and display the square of 15. \n",
    "#The output should be as follows:\n",
    "#Answerof15x15=225\n",
    "\n",
    "a=15\n",
    "asquared = a**2\n",
    "print('Answer of ' + str(a) + ' x ' + str(a) + ' = ' + str(asquared))\n"
   ]
  },
  {
   "cell_type": "code",
   "execution_count": 8,
   "id": "303e032f",
   "metadata": {},
   "outputs": [
    {
     "ename": "NameError",
     "evalue": "name 'x' is not defined",
     "output_type": "error",
     "traceback": [
      "\u001b[0;31m---------------------------------------------------------------------------\u001b[0m",
      "\u001b[0;31mNameError\u001b[0m                                 Traceback (most recent call last)",
      "Input \u001b[0;32mIn [8]\u001b[0m, in \u001b[0;36m<cell line: 2>\u001b[0;34m()\u001b[0m\n\u001b[1;32m      1\u001b[0m \u001b[38;5;66;03m#y=ax+b\u001b[39;00m\n\u001b[0;32m----> 2\u001b[0m y\u001b[38;5;241m=\u001b[39ma\u001b[38;5;241m*\u001b[39m\u001b[43mx\u001b[49m\u001b[38;5;241m+\u001b[39mb\n\u001b[1;32m      4\u001b[0m \u001b[38;5;66;03m#y=(a+b)(a-b)\u001b[39;00m\n\u001b[1;32m      5\u001b[0m y\u001b[38;5;241m=\u001b[39m(a\u001b[38;5;241m+\u001b[39mb)\u001b[38;5;241m*\u001b[39m(a\u001b[38;5;241m-\u001b[39mb)\n",
      "\u001b[0;31mNameError\u001b[0m: name 'x' is not defined"
     ]
    }
   ],
   "source": [
    "#y=ax+b\n",
    "y=a*x+b\n",
    "\n",
    "#y=(a+b)(a-b)\n",
    "y=(a+b)*(a-b)\n",
    "\n",
    "y=(2*((a+b)*(a-b)))-x\n",
    "\n",
    "y=1-((2*a)/(3*b))\n",
    "\n",
    "a=-b\n"
   ]
  },
  {
   "cell_type": "code",
   "execution_count": 11,
   "id": "f827e872",
   "metadata": {},
   "outputs": [
    {
     "data": {
      "text/plain": [
       "1"
      ]
     },
     "execution_count": 11,
     "metadata": {},
     "output_type": "execute_result"
    }
   ],
   "source": [
    "a=3\n",
    "b=2\n",
    "\n",
    "add_value, subtract_value, multiply_value = a+b, a-b, a*b\n",
    "\n",
    "subtract_value\n"
   ]
  },
  {
   "cell_type": "code",
   "execution_count": 14,
   "id": "d2cb3379",
   "metadata": {},
   "outputs": [
    {
     "data": {
      "text/plain": [
       "True"
      ]
     },
     "execution_count": 14,
     "metadata": {},
     "output_type": "execute_result"
    }
   ],
   "source": [
    "x=4\n",
    "y=3\n",
    "z=2\n",
    "\n",
    "z>x%y"
   ]
  },
  {
   "cell_type": "code",
   "execution_count": 15,
   "id": "4fb4959c",
   "metadata": {},
   "outputs": [
    {
     "name": "stdout",
     "output_type": "stream",
     "text": [
      "Hello world\n"
     ]
    }
   ],
   "source": [
    "print('Hello world')"
   ]
  },
  {
   "cell_type": "code",
   "execution_count": 16,
   "id": "7664e5d5",
   "metadata": {},
   "outputs": [
    {
     "name": "stdout",
     "output_type": "stream",
     "text": [
      "...Hello...\n"
     ]
    }
   ],
   "source": [
    "print('...%s...'% 'Hello' )"
   ]
  },
  {
   "cell_type": "code",
   "execution_count": 17,
   "id": "7c5efe55",
   "metadata": {},
   "outputs": [
    {
     "name": "stdout",
     "output_type": "stream",
     "text": [
      "{} Hello world\n"
     ]
    }
   ],
   "source": [
    "text = 'Hello world'\n",
    "print('{}',format(text))"
   ]
  },
  {
   "cell_type": "code",
   "execution_count": 21,
   "id": "415111db",
   "metadata": {},
   "outputs": [
    {
     "name": "stdout",
     "output_type": "stream",
     "text": [
      "a\n",
      "s\n",
      "d\n",
      "c\n",
      "f\n"
     ]
    }
   ],
   "source": [
    "for letter in 'asdcf':\n",
    "    print(letter)"
   ]
  },
  {
   "cell_type": "code",
   "execution_count": 23,
   "id": "8c4f5512",
   "metadata": {},
   "outputs": [
    {
     "ename": "NameError",
     "evalue": "name 'ABSDdsadsada' is not defined",
     "output_type": "error",
     "traceback": [
      "\u001b[0;31m---------------------------------------------------------------------------\u001b[0m",
      "\u001b[0;31mNameError\u001b[0m                                 Traceback (most recent call last)",
      "Input \u001b[0;32mIn [23]\u001b[0m, in \u001b[0;36m<cell line: 4>\u001b[0;34m()\u001b[0m\n\u001b[1;32m      1\u001b[0m \u001b[38;5;28;01mdef\u001b[39;00m \u001b[38;5;21mvowel\u001b[39m(text):                 \n\u001b[1;32m      2\u001b[0m     text \u001b[38;5;241m=\u001b[39m text\u001b[38;5;241m.\u001b[39mlower() \n\u001b[0;32m----> 4\u001b[0m vowel(\u001b[43mABSDdsadsada\u001b[49m)\n",
      "\u001b[0;31mNameError\u001b[0m: name 'ABSDdsadsada' is not defined"
     ]
    }
   ],
   "source": [
    "txt = \"Hello my FRIENDS\"\n",
    "\n",
    "x = txt.lower()\n",
    "\n",
    "print(x)"
   ]
  },
  {
   "cell_type": "code",
   "execution_count": 24,
   "id": "734b7ad2",
   "metadata": {},
   "outputs": [
    {
     "name": "stdout",
     "output_type": "stream",
     "text": [
      "my name is jason\n"
     ]
    }
   ],
   "source": [
    "text = \"my Name Is JASON\"\n",
    "\n",
    "y = text.lower()\n",
    "\n",
    "print(y)"
   ]
  },
  {
   "cell_type": "code",
   "execution_count": 25,
   "id": "a725f992",
   "metadata": {},
   "outputs": [
    {
     "name": "stdout",
     "output_type": "stream",
     "text": [
      "Hello from a function\n"
     ]
    }
   ],
   "source": [
    "def my_function():\n",
    "  print(\"Hello from a function\")\n",
    "\n",
    "my_function()"
   ]
  },
  {
   "cell_type": "code",
   "execution_count": 26,
   "id": "5998907f",
   "metadata": {},
   "outputs": [
    {
     "name": "stdout",
     "output_type": "stream",
     "text": [
      "Emil Refsnes\n",
      "Tobias Refsnes\n",
      "Linus Refsnes\n"
     ]
    }
   ],
   "source": [
    "def my_function(fname):\n",
    "  print(fname + \" Refsnes\")\n",
    "\n",
    "my_function(\"Emil\")\n",
    "my_function(\"Tobias\")\n",
    "my_function(\"Linus\")"
   ]
  },
  {
   "cell_type": "code",
   "execution_count": 27,
   "id": "219b9b44",
   "metadata": {},
   "outputs": [
    {
     "name": "stdout",
     "output_type": "stream",
     "text": [
      "dlroW olleH\n"
     ]
    }
   ],
   "source": [
    "txt = \"Hello World\"[::-1]\n",
    "print(txt)"
   ]
  },
  {
   "cell_type": "code",
   "execution_count": 28,
   "id": "1d312a9a",
   "metadata": {},
   "outputs": [
    {
     "name": "stdout",
     "output_type": "stream",
     "text": [
      "The original string is : Geeksforgeeks\n",
      "The reversed string(using extended slice syntax) is : skeegrofskeeG\n"
     ]
    }
   ],
   "source": [
    "# Function to reverse a string\n",
    "def reverse(string):\n",
    "    string = string[::-1]\n",
    "    return string\n",
    "  \n",
    "s = \"Geeksforgeeks\"\n",
    "  \n",
    "print(\"The original string is : \", end=\"\")\n",
    "print(s)\n",
    "  \n",
    "print(\"The reversed string(using extended slice syntax) is : \", end=\"\")\n",
    "print(reverse(s))"
   ]
  },
  {
   "cell_type": "code",
   "execution_count": 30,
   "id": "000da50d",
   "metadata": {},
   "outputs": [
    {
     "name": "stdout",
     "output_type": "stream",
     "text": [
      "Enter your name:\n",
      "Jason\n",
      "Hello, Jason\n"
     ]
    }
   ],
   "source": [
    "print('Enter your name:')\n",
    "x = input()\n",
    "print('Hello, ' + x)"
   ]
  },
  {
   "cell_type": "code",
   "execution_count": 32,
   "id": "fc931465",
   "metadata": {},
   "outputs": [
    {
     "name": "stdout",
     "output_type": "stream",
     "text": [
      "Enter your name : Jason\n",
      "Hello, Jason\n"
     ]
    }
   ],
   "source": [
    "x = input('Enter your name : ')\n",
    "print('Hello, ' + x)"
   ]
  },
  {
   "cell_type": "code",
   "execution_count": 33,
   "id": "e1ec73eb",
   "metadata": {},
   "outputs": [
    {
     "name": "stdout",
     "output_type": "stream",
     "text": [
      "1000\n"
     ]
    }
   ],
   "source": [
    "heights = [100, 2, 300, 10, 11, 1000]\n",
    "\n",
    "largest_number = heights[0]\n",
    "\n",
    "for number in heights:\n",
    "    if number > largest_number:\n",
    "        largest_number = number\n",
    "\n",
    "print(largest_number)"
   ]
  },
  {
   "cell_type": "code",
   "execution_count": 34,
   "id": "84ee5bc6",
   "metadata": {},
   "outputs": [
    {
     "name": "stdout",
     "output_type": "stream",
     "text": [
      "100\n"
     ]
    }
   ],
   "source": [
    "# Python code to find the largest number\n",
    "# in a list\n",
    "\n",
    "\n",
    "def maxelement(lst):\n",
    "\t# displaying largest element\n",
    "\t# one line solution\n",
    "\tprint(max(lst))\n",
    "\n",
    "\n",
    "# driver code\n",
    "# input list\n",
    "lst = [20, 10, 20, 4, 100]\n",
    "# the above input can also be given as\n",
    "# lst = list(map(int, input().split())) # -> taking input from the user\n",
    "maxelement(lst)\n"
   ]
  },
  {
   "cell_type": "code",
   "execution_count": 35,
   "id": "ac1df499",
   "metadata": {},
   "outputs": [
    {
     "name": "stdout",
     "output_type": "stream",
     "text": [
      "Max number is: 99\n"
     ]
    }
   ],
   "source": [
    "#Write a function named max_and_min() that takes in a list of numbers and returns the maximum and minimum.\n",
    "\n",
    "#input list\n",
    "list1 = [10, 20, 4, 45, 99]\n",
    "\n",
    "# sorting the list\n",
    "list1.sort()\n",
    "\n",
    "# print last element\n",
    "print(\"Max number is:\", list1[-1])\n",
    "print(\"Min number is\")"
   ]
  },
  {
   "cell_type": "code",
   "execution_count": null,
   "id": "829ee7c9",
   "metadata": {},
   "outputs": [],
   "source": [
    "heights = [100, 2, 300, 10, 11, 1000]\n",
    "largest_number = heights[0]\n",
    "smallest_number = heights[0]\n",
    "\n",
    "for number in heights:\n",
    "    if nMax > largest_number:\n",
    "        largest_number = nMax\n",
    "    if nMin <\n",
    "        \n",
    "print(largest_number, smallest_number)\n"
   ]
  },
  {
   "cell_type": "code",
   "execution_count": 36,
   "id": "37b8808d",
   "metadata": {},
   "outputs": [
    {
     "name": "stdout",
     "output_type": "stream",
     "text": [
      "Enter elements of a list separated by space 2 3 4 6 2 6 7 -1\n",
      "\n",
      "\n",
      "list:  ['2', '3', '4', '6', '2', '6', '7', '-1']\n",
      "Sum =  29\n"
     ]
    }
   ],
   "source": [
    "input_string = input('Enter elements of a list separated by space ')\n",
    "print(\"\\n\")\n",
    "user_list = input_string.split()\n",
    "# print list\n",
    "print('list: ', user_list)\n",
    "\n",
    "# convert each item to int type\n",
    "for i in range(len(user_list)):\n",
    "    # convert each item to int type\n",
    "    user_list[i] = int(user_list[i])\n",
    "\n",
    "# Calculating the sum of list elements\n",
    "print(\"Sum = \", sum(user_list))\n"
   ]
  },
  {
   "cell_type": "code",
   "execution_count": 46,
   "id": "2c63af69",
   "metadata": {},
   "outputs": [
    {
     "name": "stdout",
     "output_type": "stream",
     "text": [
      "Maximum of the list 8\n",
      "Minimum of the list -1\n"
     ]
    }
   ],
   "source": [
    "def max_and_min(x):\n",
    "    \n",
    "    max_val = x[0]\n",
    "    min_val = x[0]\n",
    "    for max_check in x:\n",
    "        if max_check > max_val:\n",
    "            max_val = max_check\n",
    "    return max_val\n",
    "    \n",
    "    for min_check in x:\n",
    "        if min_check < min_val:\n",
    "            min_val = min_check\n",
    "    return min_val\n",
    "\n",
    "\n",
    "#List\n",
    "my_list = [2,3,4,6,2,6,8,-1]\n",
    "\n",
    "\n",
    "print(\"Maximum of the list\", max_check(my_list))\n",
    "print(\"Minimum of the list\", min_check(my_list))\n"
   ]
  },
  {
   "cell_type": "code",
   "execution_count": null,
   "id": "73ca298f",
   "metadata": {},
   "outputs": [],
   "source": []
  },
  {
   "cell_type": "code",
   "execution_count": null,
   "id": "4145212f",
   "metadata": {},
   "outputs": [],
   "source": []
  }
 ],
 "metadata": {
  "kernelspec": {
   "display_name": "Python 3 (ipykernel)",
   "language": "python",
   "name": "python3"
  },
  "language_info": {
   "codemirror_mode": {
    "name": "ipython",
    "version": 3
   },
   "file_extension": ".py",
   "mimetype": "text/x-python",
   "name": "python",
   "nbconvert_exporter": "python",
   "pygments_lexer": "ipython3",
   "version": "3.9.12"
  }
 },
 "nbformat": 4,
 "nbformat_minor": 5
}
